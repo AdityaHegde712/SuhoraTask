{
 "cells": [
  {
   "cell_type": "markdown",
   "metadata": {},
   "source": [
    "Making train-val splits"
   ]
  },
  {
   "cell_type": "code",
   "execution_count": 1,
   "metadata": {},
   "outputs": [
    {
     "name": "stdout",
     "output_type": "stream",
     "text": [
      "Total images: 5604\n",
      "Shuffled image files for randomness\n",
      "Train test ratio: 70 - 30\n",
      "Train images moved: 3922\n",
      "Test images moved: 1682\n"
     ]
    }
   ],
   "source": [
    "import os\n",
    "import random\n",
    "import shutil\n",
    "\n",
    "# Define paths\n",
    "source_folder = 'Datasets/HRSID_JPG/JPEGImages'\n",
    "train_folder = 'data/images/train'\n",
    "test_folder = 'data/images/val'\n",
    "\n",
    "# Create train and test folders if they don't exist\n",
    "os.makedirs(train_folder, exist_ok=True)\n",
    "os.makedirs(test_folder, exist_ok=True)\n",
    "\n",
    "# Get list of image files\n",
    "image_files = [f for f in os.listdir(source_folder) if os.path.isfile(os.path.join(source_folder, f))]\n",
    "print(f\"Total images: {len(image_files)}\")\n",
    "\n",
    "# Shuffle the list of image files\n",
    "random.shuffle(image_files)\n",
    "print(\"Shuffled image files for randomness\")\n",
    "\n",
    "# Determine the split ratio (e.g., 80% train, 20% test)\n",
    "split_ratio = 0.7\n",
    "num_train = int(len(image_files) * split_ratio)\n",
    "num_test = len(image_files) - num_train\n",
    "print(\"Train test ratio: 70 - 30\")\n",
    "\n",
    "# Move files to train folder\n",
    "for image_file in image_files[:num_train]:\n",
    "    source_path = os.path.join(source_folder, image_file)\n",
    "    destination_path = os.path.join(train_folder, image_file)\n",
    "    shutil.copy(source_path, destination_path)\n",
    "print(f\"Train images moved: {num_train}\")\n",
    "\n",
    "# Move files to test folder\n",
    "for image_file in image_files[num_train:]:\n",
    "    source_path = os.path.join(source_folder, image_file)\n",
    "    destination_path = os.path.join(test_folder, image_file)\n",
    "    shutil.copy(source_path, destination_path)\n",
    "print(f\"Test images moved: {num_test}\")\n"
   ]
  },
  {
   "cell_type": "code",
   "execution_count": 2,
   "metadata": {},
   "outputs": [
    {
     "name": "stdout",
     "output_type": "stream",
     "text": [
      "Train annotations moved.\n",
      "Test annotations moved.\n"
     ]
    }
   ],
   "source": [
    "import os\n",
    "import shutil\n",
    "\n",
    "# Define paths\n",
    "train_images_folder = 'data/images/train'\n",
    "val_images_folder = 'data/images/val'\n",
    "all_annotations_folder = 'all_annotations'\n",
    "train_labels_folder = 'data/labels/train'\n",
    "val_labels_folder = 'data/labels/val'\n",
    "\n",
    "# Create train and test label folders if they don't exist\n",
    "os.makedirs(train_labels_folder, exist_ok=True)\n",
    "os.makedirs(val_labels_folder, exist_ok=True)\n",
    "\n",
    "# Function to move annotations\n",
    "def move_annotations(image_folder, label_folder):\n",
    "    image_files = [f for f in os.listdir(image_folder) if os.path.isfile(os.path.join(image_folder, f))]\n",
    "    for image_file in image_files:\n",
    "        annotation_file = os.path.splitext(image_file)[0] + \".txt\"  # Assuming annotations have .txt extension\n",
    "        source_path = os.path.join(all_annotations_folder, annotation_file)\n",
    "        if os.path.exists(source_path):\n",
    "            destination_path = os.path.join(label_folder, annotation_file)\n",
    "            shutil.copy(source_path, destination_path)\n",
    "\n",
    "# Move annotations for train images\n",
    "move_annotations(train_images_folder, train_labels_folder)\n",
    "print(\"Train annotations moved.\")\n",
    "\n",
    "# Move annotations for test images\n",
    "move_annotations(val_images_folder, val_labels_folder)\n",
    "print(\"Test annotations moved.\")"
   ]
  }
 ],
 "metadata": {
  "kernelspec": {
   "display_name": "SuhoraTask",
   "language": "python",
   "name": "python3"
  },
  "language_info": {
   "codemirror_mode": {
    "name": "ipython",
    "version": 3
   },
   "file_extension": ".py",
   "mimetype": "text/x-python",
   "name": "python",
   "nbconvert_exporter": "python",
   "pygments_lexer": "ipython3",
   "version": "3.10.13"
  }
 },
 "nbformat": 4,
 "nbformat_minor": 2
}
